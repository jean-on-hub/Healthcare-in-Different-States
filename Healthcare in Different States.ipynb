{
 "cells": [
  {
   "cell_type": "markdown",
   "id": "bce095b8",
   "metadata": {},
   "source": [
    "### import libraries"
   ]
  },
  {
   "cell_type": "code",
   "execution_count": null,
   "id": "de74d319",
   "metadata": {},
   "outputs": [],
   "source": [
    "import pandas as pd\n",
    "from matplotlib import pyplot as plt"
   ]
  },
  {
   "cell_type": "markdown",
   "id": "a43d9af5",
   "metadata": {},
   "source": [
    "### inspect data"
   ]
  },
  {
   "cell_type": "code",
   "execution_count": null,
   "id": "9776c58b",
   "metadata": {},
   "outputs": [],
   "source": [
    "healthcare = pd.read_csv(\"healthcare.csv\")\n",
    "print(healthcare.head())\n",
    "# getting chest pain informations\n",
    "chest_pain = healthcare[healthcare['DRG Definition'] == '313 - CHEST PAIN']\n",
    "# seperating alabaster state info\n",
    "alabama_chest_pain = chest_pain[chest_pain['Provider State'] == \"AL\"]\n",
    "\n",
    "costs = alabama_chest_pain[' Average Covered Charges '].values"
   ]
  },
  {
   "cell_type": "code",
   "execution_count": null,
   "id": "e93bc059",
   "metadata": {},
   "outputs": [],
   "source": [
    "# post the boxplot\n",
    "plt.boxplot(costs)\n",
    "plt.show()\n",
    "#make a boxplot for each state\n",
    "# get unique state values \n",
    "states = chest_pain[\"Provider State\"].unique()\n",
    "datasets = []\n",
    "for state in states:\n",
    "  datasets.append(chest_pain[chest_pain['Provider State'] == state][' Average Covered Charges '].values)"
   ]
  },
  {
   "cell_type": "code",
   "execution_count": null,
   "id": "d5d670cd",
   "metadata": {},
   "outputs": [],
   "source": [
    "#make a boxplot for each state\n",
    "# get unique state values \n",
    "states = chest_pain[\"Provider State\"].unique()\n",
    "datasets = []\n",
    "for state in states:\n",
    "  datasets.append(chest_pain[chest_pain['Provider State'] == state][' Average Covered Charges '].values)\n",
    "#making the figur large enough\n",
    "plt.figure(figsize=(20,6))\n",
    "plt.boxplot(datasets,labels = states)\n",
    "plt.show()"
   ]
  }
 ],
 "metadata": {
  "kernelspec": {
   "display_name": "Python 3",
   "language": "python",
   "name": "python3"
  },
  "language_info": {
   "codemirror_mode": {
    "name": "ipython",
    "version": 3
   },
   "file_extension": ".py",
   "mimetype": "text/x-python",
   "name": "python",
   "nbconvert_exporter": "python",
   "pygments_lexer": "ipython3",
   "version": "3.8.8"
  }
 },
 "nbformat": 4,
 "nbformat_minor": 5
}
